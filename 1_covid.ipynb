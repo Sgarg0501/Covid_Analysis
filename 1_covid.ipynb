{
 "cells": [
  {
   "cell_type": "code",
   "execution_count": 1,
   "metadata": {},
   "outputs": [],
   "source": [
    "import numpy as np;\n",
    "import pandas as pd;\n",
    "import matplotlib.pyplot as plt\n",
    "import seaborn as sns"
   ]
  },
  {
   "cell_type": "markdown",
   "metadata": {},
   "source": [
    "## Understanding data\n"
   ]
  },
  {
   "cell_type": "code",
   "execution_count": 2,
   "metadata": {},
   "outputs": [
    {
     "data": {
      "text/html": [
       "<div>\n",
       "<style scoped>\n",
       "    .dataframe tbody tr th:only-of-type {\n",
       "        vertical-align: middle;\n",
       "    }\n",
       "\n",
       "    .dataframe tbody tr th {\n",
       "        vertical-align: top;\n",
       "    }\n",
       "\n",
       "    .dataframe thead th {\n",
       "        text-align: right;\n",
       "    }\n",
       "</style>\n",
       "<table border=\"1\" class=\"dataframe\">\n",
       "  <thead>\n",
       "    <tr style=\"text-align: right;\">\n",
       "      <th></th>\n",
       "      <th>Sno</th>\n",
       "      <th>Date</th>\n",
       "      <th>Time</th>\n",
       "      <th>State/UnionTerritory</th>\n",
       "      <th>ConfirmedIndianNational</th>\n",
       "      <th>ConfirmedForeignNational</th>\n",
       "      <th>Cured</th>\n",
       "      <th>Deaths</th>\n",
       "      <th>Confirmed</th>\n",
       "    </tr>\n",
       "  </thead>\n",
       "  <tbody>\n",
       "    <tr>\n",
       "      <th>0</th>\n",
       "      <td>1</td>\n",
       "      <td>30/01/20</td>\n",
       "      <td>6:00 PM</td>\n",
       "      <td>Kerala</td>\n",
       "      <td>1</td>\n",
       "      <td>0</td>\n",
       "      <td>0</td>\n",
       "      <td>0</td>\n",
       "      <td>1</td>\n",
       "    </tr>\n",
       "    <tr>\n",
       "      <th>1</th>\n",
       "      <td>2</td>\n",
       "      <td>31/01/20</td>\n",
       "      <td>6:00 PM</td>\n",
       "      <td>Kerala</td>\n",
       "      <td>1</td>\n",
       "      <td>0</td>\n",
       "      <td>0</td>\n",
       "      <td>0</td>\n",
       "      <td>1</td>\n",
       "    </tr>\n",
       "    <tr>\n",
       "      <th>2</th>\n",
       "      <td>3</td>\n",
       "      <td>01/02/20</td>\n",
       "      <td>6:00 PM</td>\n",
       "      <td>Kerala</td>\n",
       "      <td>2</td>\n",
       "      <td>0</td>\n",
       "      <td>0</td>\n",
       "      <td>0</td>\n",
       "      <td>2</td>\n",
       "    </tr>\n",
       "    <tr>\n",
       "      <th>3</th>\n",
       "      <td>4</td>\n",
       "      <td>02/02/20</td>\n",
       "      <td>6:00 PM</td>\n",
       "      <td>Kerala</td>\n",
       "      <td>3</td>\n",
       "      <td>0</td>\n",
       "      <td>0</td>\n",
       "      <td>0</td>\n",
       "      <td>3</td>\n",
       "    </tr>\n",
       "    <tr>\n",
       "      <th>4</th>\n",
       "      <td>5</td>\n",
       "      <td>03/02/20</td>\n",
       "      <td>6:00 PM</td>\n",
       "      <td>Kerala</td>\n",
       "      <td>3</td>\n",
       "      <td>0</td>\n",
       "      <td>0</td>\n",
       "      <td>0</td>\n",
       "      <td>3</td>\n",
       "    </tr>\n",
       "    <tr>\n",
       "      <th>...</th>\n",
       "      <td>...</td>\n",
       "      <td>...</td>\n",
       "      <td>...</td>\n",
       "      <td>...</td>\n",
       "      <td>...</td>\n",
       "      <td>...</td>\n",
       "      <td>...</td>\n",
       "      <td>...</td>\n",
       "      <td>...</td>\n",
       "    </tr>\n",
       "    <tr>\n",
       "      <th>9286</th>\n",
       "      <td>9287</td>\n",
       "      <td>09/12/20</td>\n",
       "      <td>8:00 AM</td>\n",
       "      <td>Telengana</td>\n",
       "      <td>-</td>\n",
       "      <td>-</td>\n",
       "      <td>266120</td>\n",
       "      <td>1480</td>\n",
       "      <td>275261</td>\n",
       "    </tr>\n",
       "    <tr>\n",
       "      <th>9287</th>\n",
       "      <td>9288</td>\n",
       "      <td>09/12/20</td>\n",
       "      <td>8:00 AM</td>\n",
       "      <td>Tripura</td>\n",
       "      <td>-</td>\n",
       "      <td>-</td>\n",
       "      <td>32169</td>\n",
       "      <td>373</td>\n",
       "      <td>32945</td>\n",
       "    </tr>\n",
       "    <tr>\n",
       "      <th>9288</th>\n",
       "      <td>9289</td>\n",
       "      <td>09/12/20</td>\n",
       "      <td>8:00 AM</td>\n",
       "      <td>Uttarakhand</td>\n",
       "      <td>-</td>\n",
       "      <td>-</td>\n",
       "      <td>72435</td>\n",
       "      <td>1307</td>\n",
       "      <td>79141</td>\n",
       "    </tr>\n",
       "    <tr>\n",
       "      <th>9289</th>\n",
       "      <td>9290</td>\n",
       "      <td>09/12/20</td>\n",
       "      <td>8:00 AM</td>\n",
       "      <td>Uttar Pradesh</td>\n",
       "      <td>-</td>\n",
       "      <td>-</td>\n",
       "      <td>528832</td>\n",
       "      <td>7967</td>\n",
       "      <td>558173</td>\n",
       "    </tr>\n",
       "    <tr>\n",
       "      <th>9290</th>\n",
       "      <td>9291</td>\n",
       "      <td>09/12/20</td>\n",
       "      <td>8:00 AM</td>\n",
       "      <td>West Bengal</td>\n",
       "      <td>-</td>\n",
       "      <td>-</td>\n",
       "      <td>475425</td>\n",
       "      <td>8820</td>\n",
       "      <td>507995</td>\n",
       "    </tr>\n",
       "  </tbody>\n",
       "</table>\n",
       "<p>9291 rows × 9 columns</p>\n",
       "</div>"
      ],
      "text/plain": [
       "       Sno      Date     Time State/UnionTerritory ConfirmedIndianNational  \\\n",
       "0        1  30/01/20  6:00 PM               Kerala                       1   \n",
       "1        2  31/01/20  6:00 PM               Kerala                       1   \n",
       "2        3  01/02/20  6:00 PM               Kerala                       2   \n",
       "3        4  02/02/20  6:00 PM               Kerala                       3   \n",
       "4        5  03/02/20  6:00 PM               Kerala                       3   \n",
       "...    ...       ...      ...                  ...                     ...   \n",
       "9286  9287  09/12/20  8:00 AM            Telengana                       -   \n",
       "9287  9288  09/12/20  8:00 AM              Tripura                       -   \n",
       "9288  9289  09/12/20  8:00 AM          Uttarakhand                       -   \n",
       "9289  9290  09/12/20  8:00 AM        Uttar Pradesh                       -   \n",
       "9290  9291  09/12/20  8:00 AM          West Bengal                       -   \n",
       "\n",
       "     ConfirmedForeignNational   Cured  Deaths  Confirmed  \n",
       "0                           0       0       0          1  \n",
       "1                           0       0       0          1  \n",
       "2                           0       0       0          2  \n",
       "3                           0       0       0          3  \n",
       "4                           0       0       0          3  \n",
       "...                       ...     ...     ...        ...  \n",
       "9286                        -  266120    1480     275261  \n",
       "9287                        -   32169     373      32945  \n",
       "9288                        -   72435    1307      79141  \n",
       "9289                        -  528832    7967     558173  \n",
       "9290                        -  475425    8820     507995  \n",
       "\n",
       "[9291 rows x 9 columns]"
      ]
     },
     "execution_count": 2,
     "metadata": {},
     "output_type": "execute_result"
    }
   ],
   "source": [
    "df=pd.read_csv('1_covid_19_india.csv')\n",
    "df"
   ]
  },
  {
   "cell_type": "code",
   "execution_count": 3,
   "metadata": {},
   "outputs": [
    {
     "data": {
      "text/plain": [
       "(9291, 9)"
      ]
     },
     "execution_count": 3,
     "metadata": {},
     "output_type": "execute_result"
    }
   ],
   "source": [
    "df.shape"
   ]
  },
  {
   "cell_type": "code",
   "execution_count": 4,
   "metadata": {},
   "outputs": [
    {
     "data": {
      "text/html": [
       "<div>\n",
       "<style scoped>\n",
       "    .dataframe tbody tr th:only-of-type {\n",
       "        vertical-align: middle;\n",
       "    }\n",
       "\n",
       "    .dataframe tbody tr th {\n",
       "        vertical-align: top;\n",
       "    }\n",
       "\n",
       "    .dataframe thead th {\n",
       "        text-align: right;\n",
       "    }\n",
       "</style>\n",
       "<table border=\"1\" class=\"dataframe\">\n",
       "  <thead>\n",
       "    <tr style=\"text-align: right;\">\n",
       "      <th></th>\n",
       "      <th>Sno</th>\n",
       "      <th>Date</th>\n",
       "      <th>Time</th>\n",
       "      <th>State/UnionTerritory</th>\n",
       "      <th>ConfirmedIndianNational</th>\n",
       "      <th>ConfirmedForeignNational</th>\n",
       "      <th>Cured</th>\n",
       "      <th>Deaths</th>\n",
       "      <th>Confirmed</th>\n",
       "    </tr>\n",
       "  </thead>\n",
       "  <tbody>\n",
       "    <tr>\n",
       "      <th>0</th>\n",
       "      <td>1</td>\n",
       "      <td>30/01/20</td>\n",
       "      <td>6:00 PM</td>\n",
       "      <td>Kerala</td>\n",
       "      <td>1</td>\n",
       "      <td>0</td>\n",
       "      <td>0</td>\n",
       "      <td>0</td>\n",
       "      <td>1</td>\n",
       "    </tr>\n",
       "    <tr>\n",
       "      <th>1</th>\n",
       "      <td>2</td>\n",
       "      <td>31/01/20</td>\n",
       "      <td>6:00 PM</td>\n",
       "      <td>Kerala</td>\n",
       "      <td>1</td>\n",
       "      <td>0</td>\n",
       "      <td>0</td>\n",
       "      <td>0</td>\n",
       "      <td>1</td>\n",
       "    </tr>\n",
       "    <tr>\n",
       "      <th>2</th>\n",
       "      <td>3</td>\n",
       "      <td>01/02/20</td>\n",
       "      <td>6:00 PM</td>\n",
       "      <td>Kerala</td>\n",
       "      <td>2</td>\n",
       "      <td>0</td>\n",
       "      <td>0</td>\n",
       "      <td>0</td>\n",
       "      <td>2</td>\n",
       "    </tr>\n",
       "    <tr>\n",
       "      <th>3</th>\n",
       "      <td>4</td>\n",
       "      <td>02/02/20</td>\n",
       "      <td>6:00 PM</td>\n",
       "      <td>Kerala</td>\n",
       "      <td>3</td>\n",
       "      <td>0</td>\n",
       "      <td>0</td>\n",
       "      <td>0</td>\n",
       "      <td>3</td>\n",
       "    </tr>\n",
       "    <tr>\n",
       "      <th>4</th>\n",
       "      <td>5</td>\n",
       "      <td>03/02/20</td>\n",
       "      <td>6:00 PM</td>\n",
       "      <td>Kerala</td>\n",
       "      <td>3</td>\n",
       "      <td>0</td>\n",
       "      <td>0</td>\n",
       "      <td>0</td>\n",
       "      <td>3</td>\n",
       "    </tr>\n",
       "  </tbody>\n",
       "</table>\n",
       "</div>"
      ],
      "text/plain": [
       "   Sno      Date     Time State/UnionTerritory ConfirmedIndianNational  \\\n",
       "0    1  30/01/20  6:00 PM               Kerala                       1   \n",
       "1    2  31/01/20  6:00 PM               Kerala                       1   \n",
       "2    3  01/02/20  6:00 PM               Kerala                       2   \n",
       "3    4  02/02/20  6:00 PM               Kerala                       3   \n",
       "4    5  03/02/20  6:00 PM               Kerala                       3   \n",
       "\n",
       "  ConfirmedForeignNational  Cured  Deaths  Confirmed  \n",
       "0                        0      0       0          1  \n",
       "1                        0      0       0          1  \n",
       "2                        0      0       0          2  \n",
       "3                        0      0       0          3  \n",
       "4                        0      0       0          3  "
      ]
     },
     "execution_count": 4,
     "metadata": {},
     "output_type": "execute_result"
    }
   ],
   "source": [
    "df.head()"
   ]
  },
  {
   "cell_type": "code",
   "execution_count": 5,
   "metadata": {},
   "outputs": [
    {
     "data": {
      "text/plain": [
       "array(['Sno', 'Date', 'Time', 'State/UnionTerritory',\n",
       "       'ConfirmedIndianNational', 'ConfirmedForeignNational', 'Cured',\n",
       "       'Deaths', 'Confirmed'], dtype=object)"
      ]
     },
     "execution_count": 5,
     "metadata": {},
     "output_type": "execute_result"
    }
   ],
   "source": [
    "#Listing columns\n",
    "df.columns.values"
   ]
  },
  {
   "cell_type": "code",
   "execution_count": 6,
   "metadata": {},
   "outputs": [
    {
     "name": "stdout",
     "output_type": "stream",
     "text": [
      "<class 'pandas.core.frame.DataFrame'>\n",
      "RangeIndex: 9291 entries, 0 to 9290\n",
      "Data columns (total 9 columns):\n",
      " #   Column                    Non-Null Count  Dtype \n",
      "---  ------                    --------------  ----- \n",
      " 0   Sno                       9291 non-null   int64 \n",
      " 1   Date                      9291 non-null   object\n",
      " 2   Time                      9291 non-null   object\n",
      " 3   State/UnionTerritory      9291 non-null   object\n",
      " 4   ConfirmedIndianNational   9291 non-null   object\n",
      " 5   ConfirmedForeignNational  9291 non-null   object\n",
      " 6   Cured                     9291 non-null   int64 \n",
      " 7   Deaths                    9291 non-null   int64 \n",
      " 8   Confirmed                 9291 non-null   int64 \n",
      "dtypes: int64(4), object(5)\n",
      "memory usage: 653.4+ KB\n"
     ]
    }
   ],
   "source": [
    "df.info()"
   ]
  },
  {
   "cell_type": "code",
   "execution_count": 7,
   "metadata": {},
   "outputs": [
    {
     "name": "stdout",
     "output_type": "stream",
     "text": [
      "[   1    2    3 ... 9289 9290 9291]\n",
      "['30/01/20' '31/01/20' '01/02/20' '02/02/20' '03/02/20' '04/02/20'\n",
      " '05/02/20' '06/02/20' '07/02/20' '08/02/20' '09/02/20' '10/02/20'\n",
      " '11/02/20' '12/02/20' '13/02/20' '14/02/20' '15/02/20' '16/02/20'\n",
      " '17/02/20' '18/02/20' '19/02/20' '20/02/20' '21/02/20' '22/02/20'\n",
      " '23/02/20' '24/02/20' '25/02/20' '26/02/20' '27/02/20' '28/02/20'\n",
      " '29/02/20' '01/03/20' '02/03/20' '03/03/20' '04/03/20' '05/03/20'\n",
      " '06/03/20' '07/03/20' '08/03/20' '09/03/20' '10/03/20' '11/03/20'\n",
      " '12/03/20' '13/03/20' '14/03/20' '15/03/20' '16/03/20' '17/03/20'\n",
      " '18/03/20' '19/03/20' '20/03/20' '21/03/20' '22/03/20' '23/03/20'\n",
      " '24/03/20' '25/03/20' '26/03/20' '27/03/20' '28/03/20' '29/03/20'\n",
      " '30/03/20' '31/03/20' '01/04/20' '02/04/20' '03/04/20' '04/04/20'\n",
      " '05/04/20' '06/04/20' '07/04/20' '08/04/20' '09/04/20' '10/04/20'\n",
      " '11/04/20' '12/04/20' '13/04/20' '14/04/20' '15/04/20' '16/04/20'\n",
      " '17/04/20' '18/04/20' '19/04/20' '20/04/20' '21/04/20' '22/04/20'\n",
      " '23/04/20' '24/04/20' '25/04/20' '26/04/20' '27/04/20' '28/04/20'\n",
      " '29/04/20' '30/04/20' '01/05/20' '02/05/20' '03/05/20' '04/05/20'\n",
      " '05/05/20' '06/05/20' '07/05/20' '08/05/20' '09/05/20' '10/05/20'\n",
      " '11/05/20' '12/05/20' '13/05/20' '14/05/20' '15/05/20' '16/05/20'\n",
      " '17/05/20' '18/05/20' '19/05/20' '20/05/20' '21/05/20' '22/05/20'\n",
      " '23/05/20' '24/05/20' '25/05/20' '26/05/20' '27/05/20' '28/05/20'\n",
      " '29/05/20' '30/05/20' '31/05/20' '01/06/20' '02/06/20' '03/06/20'\n",
      " '04/06/20' '05/06/20' '06/06/20' '07/06/20' '08/06/20' '09/06/20'\n",
      " '10/06/20' '11/06/20' '12/06/20' '13/06/20' '14/06/20' '15/06/20'\n",
      " '16/06/20' '17/06/20' '18/06/20' '19/06/20' '20/06/20' '21/06/20'\n",
      " '22/06/20' '23/06/20' '24/06/20' '25/06/20' '26/06/20' '27/06/20'\n",
      " '28/06/20' '29/06/20' '30/06/20' '01/07/20' '02/07/20' '03/07/20'\n",
      " '04/07/20' '05/07/20' '06/07/20' '07/07/20' '08/07/20' '09/07/20'\n",
      " '10/07/20' '11/07/20' '12/07/20' '13/07/20' '14/07/20' '15/07/20'\n",
      " '16/07/20' '17/07/20' '18/07/20' '19/07/20' '20/07/20' '21/07/20'\n",
      " '22/07/20' '23/07/20' '24/07/20' '25/07/20' '26/07/20' '27/07/20'\n",
      " '28/07/20' '29/07/20' '30/07/20' '31/07/20' '01/08/20' '02/08/20'\n",
      " '03/08/20' '04/08/20' '05/08/20' '06/08/20' '07/08/20' '08/08/20'\n",
      " '09/08/20' '10/08/20' '11/08/20' '12/08/20' '13/08/20' '14/08/20'\n",
      " '15/08/20' '16/08/20' '17/08/20' '18/08/20' '19/08/20' '20/08/20'\n",
      " '21/08/20' '22/08/20' '23/08/20' '24/08/20' '25/08/20' '26/08/20'\n",
      " '27/08/20' '28/08/20' '29/08/20' '30/08/20' '31/08/20' '01/09/20'\n",
      " '02/09/20' '03/09/20' '04/09/20' '05/09/20' '06/09/20' '07/09/20'\n",
      " '08/09/20' '09/09/20' '10/09/20' '11/09/20' '12/09/20' '13/09/20'\n",
      " '14/09/20' '15/09/20' '16/09/20' '17/09/20' '18/09/20' '19/09/20'\n",
      " '20/09/20' '21/09/20' '22/09/20' '23/09/20' '24/09/20' '25/09/20'\n",
      " '26/09/20' '27/09/20' '28/09/20' '29/09/20' '30/09/20' '01/10/20'\n",
      " '02/10/20' '03/10/20' '04/10/20' '05/10/20' '06/10/20' '07/10/20'\n",
      " '08/10/20' '09/10/20' '10/10/20' '11/10/20' '12/10/20' '13/10/20'\n",
      " '14/10/20' '15/10/20' '16/10/20' '17/10/20' '18/10/20' '19/10/20'\n",
      " '20/10/20' '21/10/20' '22/10/20' '23/10/20' '24/10/20' '25/10/20'\n",
      " '26/10/20' '27/10/20' '28/10/20' '29/10/20' '30/10/20' '31/10/20'\n",
      " '01/11/20' '02/11/20' '03/11/20' '04/11/20' '05/11/20' '06/11/20'\n",
      " '07/11/20' '08/11/20' '09/11/20' '10/11/20' '11/11/20' '12/11/20'\n",
      " '13/11/20' '14/11/20' '15/11/20' '16/11/20' '17/11/20' '18/11/20'\n",
      " '19/11/20' '20/11/20' '21/11/20' '22/11/20' '23/11/20' '24/11/20'\n",
      " '25/11/20' '26/11/20' '27/11/20' '28/11/20' '29/11/20' '30/11/20'\n",
      " '01/12/20' '02/12/20' '03/12/20' '04/12/20' '05/12/20' '06/12/20'\n",
      " '07/12/20' '08/12/20' '09/12/20']\n",
      "['6:00 PM' '10:00 AM' '7:30 PM' '9:30 PM' '8:30 PM' '5:00 PM' '8:00 AM']\n",
      "['Kerala' 'Telengana' 'Delhi' 'Rajasthan' 'Uttar Pradesh' 'Haryana'\n",
      " 'Ladakh' 'Tamil Nadu' 'Karnataka' 'Maharashtra' 'Punjab'\n",
      " 'Jammu and Kashmir' 'Andhra Pradesh' 'Uttarakhand' 'Odisha' 'Puducherry'\n",
      " 'West Bengal' 'Chhattisgarh' 'Chandigarh' 'Gujarat' 'Himachal Pradesh'\n",
      " 'Madhya Pradesh' 'Bihar' 'Manipur' 'Mizoram'\n",
      " 'Andaman and Nicobar Islands' 'Goa' 'Unassigned' 'Assam' 'Jharkhand'\n",
      " 'Arunachal Pradesh' 'Tripura' 'Nagaland' 'Meghalaya' 'Dadar Nagar Haveli'\n",
      " 'Cases being reassigned to states' 'Sikkim' 'Daman & Diu'\n",
      " 'Dadra and Nagar Haveli and Daman and Diu' 'Telangana' 'Telangana***'\n",
      " 'Telengana***' 'Maharashtra***' 'Chandigarh***' 'Punjab***']\n",
      "['1' '2' '3' '0' '6' '7' '8' '9' '4' '15' '5' '17' '10' '11' '19' '14'\n",
      " '22' '32' '12' '23' '24' '36' '25' '39' '44' '18' '16' '26' '49' '33'\n",
      " '60' '13' '28' '45' '64' '21' '29' '71' '30' '37' '87' '86' '41' '101'\n",
      " '125' '34' '35' '42' '55' '110' '20' '121' '40' '129' '127' '38' '168'\n",
      " '177' '52' '46' '54' '-']\n",
      "['0' '1' '2' '14' '3' '9' '7' '11' '10' '8' '6' '-']\n",
      "[     0      3      1 ...  72435 528832 475425]\n",
      "[   0    1    2 ... 1480 7967 8820]\n",
      "[     1      2      3 ...  79141 558173 507995]\n"
     ]
    }
   ],
   "source": [
    "x=list(df.columns.values)\n",
    "x\n",
    "for i in range(9):\n",
    "     print(df[x[i]].unique())"
   ]
  },
  {
   "cell_type": "code",
   "execution_count": 8,
   "metadata": {},
   "outputs": [
    {
     "data": {
      "text/plain": [
       "Sno                         0\n",
       "Date                        0\n",
       "Time                        0\n",
       "State/UnionTerritory        0\n",
       "ConfirmedIndianNational     0\n",
       "ConfirmedForeignNational    0\n",
       "Cured                       0\n",
       "Deaths                      0\n",
       "Confirmed                   0\n",
       "dtype: int64"
      ]
     },
     "execution_count": 8,
     "metadata": {},
     "output_type": "execute_result"
    }
   ],
   "source": [
    "df.isnull().sum()"
   ]
  },
  {
   "cell_type": "markdown",
   "metadata": {},
   "source": [
    "## Data Cleaning"
   ]
  },
  {
   "cell_type": "code",
   "execution_count": 9,
   "metadata": {},
   "outputs": [],
   "source": [
    "df=df.replace('-', np.nan)"
   ]
  },
  {
   "cell_type": "code",
   "execution_count": 10,
   "metadata": {},
   "outputs": [
    {
     "data": {
      "text/plain": [
       "Sno                            0\n",
       "Date                           0\n",
       "Time                           0\n",
       "State/UnionTerritory           0\n",
       "ConfirmedIndianNational     8845\n",
       "ConfirmedForeignNational    8845\n",
       "Cured                          0\n",
       "Deaths                         0\n",
       "Confirmed                      0\n",
       "dtype: int64"
      ]
     },
     "execution_count": 10,
     "metadata": {},
     "output_type": "execute_result"
    }
   ],
   "source": [
    "df.isnull().sum()"
   ]
  },
  {
   "cell_type": "code",
   "execution_count": 11,
   "metadata": {},
   "outputs": [
    {
     "data": {
      "text/plain": [
       "<bound method Series.sort_values of NaN    8845\n",
       "1       108\n",
       "3        73\n",
       "2        33\n",
       "4        21\n",
       "       ... \n",
       "41        1\n",
       "86        1\n",
       "87        1\n",
       "45        1\n",
       "110       1\n",
       "Name: ConfirmedIndianNational, Length: 62, dtype: int64>"
      ]
     },
     "execution_count": 11,
     "metadata": {},
     "output_type": "execute_result"
    }
   ],
   "source": [
    "df['ConfirmedIndianNational'].value_counts(dropna=False).sort_values"
   ]
  },
  {
   "cell_type": "code",
   "execution_count": 12,
   "metadata": {},
   "outputs": [
    {
     "data": {
      "text/html": [
       "<div>\n",
       "<style scoped>\n",
       "    .dataframe tbody tr th:only-of-type {\n",
       "        vertical-align: middle;\n",
       "    }\n",
       "\n",
       "    .dataframe tbody tr th {\n",
       "        vertical-align: top;\n",
       "    }\n",
       "\n",
       "    .dataframe thead th {\n",
       "        text-align: right;\n",
       "    }\n",
       "</style>\n",
       "<table border=\"1\" class=\"dataframe\">\n",
       "  <thead>\n",
       "    <tr style=\"text-align: right;\">\n",
       "      <th></th>\n",
       "      <th>Sno</th>\n",
       "      <th>Date</th>\n",
       "      <th>Time</th>\n",
       "      <th>State/UnionTerritory</th>\n",
       "      <th>Cured</th>\n",
       "      <th>Deaths</th>\n",
       "      <th>Confirmed</th>\n",
       "    </tr>\n",
       "  </thead>\n",
       "  <tbody>\n",
       "    <tr>\n",
       "      <th>0</th>\n",
       "      <td>1</td>\n",
       "      <td>30/01/20</td>\n",
       "      <td>6:00 PM</td>\n",
       "      <td>Kerala</td>\n",
       "      <td>0</td>\n",
       "      <td>0</td>\n",
       "      <td>1</td>\n",
       "    </tr>\n",
       "    <tr>\n",
       "      <th>1</th>\n",
       "      <td>2</td>\n",
       "      <td>31/01/20</td>\n",
       "      <td>6:00 PM</td>\n",
       "      <td>Kerala</td>\n",
       "      <td>0</td>\n",
       "      <td>0</td>\n",
       "      <td>1</td>\n",
       "    </tr>\n",
       "    <tr>\n",
       "      <th>2</th>\n",
       "      <td>3</td>\n",
       "      <td>01/02/20</td>\n",
       "      <td>6:00 PM</td>\n",
       "      <td>Kerala</td>\n",
       "      <td>0</td>\n",
       "      <td>0</td>\n",
       "      <td>2</td>\n",
       "    </tr>\n",
       "    <tr>\n",
       "      <th>3</th>\n",
       "      <td>4</td>\n",
       "      <td>02/02/20</td>\n",
       "      <td>6:00 PM</td>\n",
       "      <td>Kerala</td>\n",
       "      <td>0</td>\n",
       "      <td>0</td>\n",
       "      <td>3</td>\n",
       "    </tr>\n",
       "    <tr>\n",
       "      <th>4</th>\n",
       "      <td>5</td>\n",
       "      <td>03/02/20</td>\n",
       "      <td>6:00 PM</td>\n",
       "      <td>Kerala</td>\n",
       "      <td>0</td>\n",
       "      <td>0</td>\n",
       "      <td>3</td>\n",
       "    </tr>\n",
       "    <tr>\n",
       "      <th>...</th>\n",
       "      <td>...</td>\n",
       "      <td>...</td>\n",
       "      <td>...</td>\n",
       "      <td>...</td>\n",
       "      <td>...</td>\n",
       "      <td>...</td>\n",
       "      <td>...</td>\n",
       "    </tr>\n",
       "    <tr>\n",
       "      <th>9286</th>\n",
       "      <td>9287</td>\n",
       "      <td>09/12/20</td>\n",
       "      <td>8:00 AM</td>\n",
       "      <td>Telengana</td>\n",
       "      <td>266120</td>\n",
       "      <td>1480</td>\n",
       "      <td>275261</td>\n",
       "    </tr>\n",
       "    <tr>\n",
       "      <th>9287</th>\n",
       "      <td>9288</td>\n",
       "      <td>09/12/20</td>\n",
       "      <td>8:00 AM</td>\n",
       "      <td>Tripura</td>\n",
       "      <td>32169</td>\n",
       "      <td>373</td>\n",
       "      <td>32945</td>\n",
       "    </tr>\n",
       "    <tr>\n",
       "      <th>9288</th>\n",
       "      <td>9289</td>\n",
       "      <td>09/12/20</td>\n",
       "      <td>8:00 AM</td>\n",
       "      <td>Uttarakhand</td>\n",
       "      <td>72435</td>\n",
       "      <td>1307</td>\n",
       "      <td>79141</td>\n",
       "    </tr>\n",
       "    <tr>\n",
       "      <th>9289</th>\n",
       "      <td>9290</td>\n",
       "      <td>09/12/20</td>\n",
       "      <td>8:00 AM</td>\n",
       "      <td>Uttar Pradesh</td>\n",
       "      <td>528832</td>\n",
       "      <td>7967</td>\n",
       "      <td>558173</td>\n",
       "    </tr>\n",
       "    <tr>\n",
       "      <th>9290</th>\n",
       "      <td>9291</td>\n",
       "      <td>09/12/20</td>\n",
       "      <td>8:00 AM</td>\n",
       "      <td>West Bengal</td>\n",
       "      <td>475425</td>\n",
       "      <td>8820</td>\n",
       "      <td>507995</td>\n",
       "    </tr>\n",
       "  </tbody>\n",
       "</table>\n",
       "<p>9291 rows × 7 columns</p>\n",
       "</div>"
      ],
      "text/plain": [
       "       Sno      Date     Time State/UnionTerritory   Cured  Deaths  Confirmed\n",
       "0        1  30/01/20  6:00 PM               Kerala       0       0          1\n",
       "1        2  31/01/20  6:00 PM               Kerala       0       0          1\n",
       "2        3  01/02/20  6:00 PM               Kerala       0       0          2\n",
       "3        4  02/02/20  6:00 PM               Kerala       0       0          3\n",
       "4        5  03/02/20  6:00 PM               Kerala       0       0          3\n",
       "...    ...       ...      ...                  ...     ...     ...        ...\n",
       "9286  9287  09/12/20  8:00 AM            Telengana  266120    1480     275261\n",
       "9287  9288  09/12/20  8:00 AM              Tripura   32169     373      32945\n",
       "9288  9289  09/12/20  8:00 AM          Uttarakhand   72435    1307      79141\n",
       "9289  9290  09/12/20  8:00 AM        Uttar Pradesh  528832    7967     558173\n",
       "9290  9291  09/12/20  8:00 AM          West Bengal  475425    8820     507995\n",
       "\n",
       "[9291 rows x 7 columns]"
      ]
     },
     "execution_count": 12,
     "metadata": {},
     "output_type": "execute_result"
    }
   ],
   "source": [
    "df.drop(['ConfirmedIndianNational','ConfirmedForeignNational'], axis=1, inplace=True) \n",
    "df"
   ]
  },
  {
   "cell_type": "code",
   "execution_count": 13,
   "metadata": {},
   "outputs": [],
   "source": [
    "df['State/UnionTerritory']=df['State/UnionTerritory'].astype('category')"
   ]
  },
  {
   "cell_type": "code",
   "execution_count": 14,
   "metadata": {},
   "outputs": [
    {
     "name": "stdout",
     "output_type": "stream",
     "text": [
      "<class 'pandas.core.frame.DataFrame'>\n",
      "RangeIndex: 9291 entries, 0 to 9290\n",
      "Data columns (total 7 columns):\n",
      " #   Column                Non-Null Count  Dtype   \n",
      "---  ------                --------------  -----   \n",
      " 0   Sno                   9291 non-null   int64   \n",
      " 1   Date                  9291 non-null   object  \n",
      " 2   Time                  9291 non-null   object  \n",
      " 3   State/UnionTerritory  9291 non-null   category\n",
      " 4   Cured                 9291 non-null   int64   \n",
      " 5   Deaths                9291 non-null   int64   \n",
      " 6   Confirmed             9291 non-null   int64   \n",
      "dtypes: category(1), int64(4), object(2)\n",
      "memory usage: 446.1+ KB\n"
     ]
    }
   ],
   "source": [
    "df.info() #Observe the memory usage in last line it will be decrased."
   ]
  },
  {
   "cell_type": "code",
   "execution_count": 15,
   "metadata": {},
   "outputs": [
    {
     "data": {
      "text/plain": [
       "['Kerala', 'Telengana', 'Delhi', 'Rajasthan', 'Uttar Pradesh', ..., 'Telangana***', 'Telengana***', 'Maharashtra***', 'Chandigarh***', 'Punjab***']\n",
       "Length: 45\n",
       "Categories (45, object): ['Andaman and Nicobar Islands', 'Andhra Pradesh', 'Arunachal Pradesh', 'Assam', ..., 'Unassigned', 'Uttar Pradesh', 'Uttarakhand', 'West Bengal']"
      ]
     },
     "execution_count": 15,
     "metadata": {},
     "output_type": "execute_result"
    }
   ],
   "source": [
    "df['State/UnionTerritory'].unique()"
   ]
  },
  {
   "cell_type": "code",
   "execution_count": 16,
   "metadata": {},
   "outputs": [],
   "source": [
    "df['State/UnionTerritory']=df['State/UnionTerritory'].replace({'Telangana***':'Telangana','Telengana***':'Telangana','Telengana':'Telangana','Maharashtra***':'Maharashtra','Chandigarh***':'Chandigarh','Punjab***':'Punjab'})"
   ]
  },
  {
   "cell_type": "code",
   "execution_count": 17,
   "metadata": {},
   "outputs": [
    {
     "data": {
      "text/plain": [
       "array(['Kerala', 'Telangana', 'Delhi', 'Rajasthan', 'Uttar Pradesh',\n",
       "       'Haryana', 'Ladakh', 'Tamil Nadu', 'Karnataka', 'Maharashtra',\n",
       "       'Punjab', 'Jammu and Kashmir', 'Andhra Pradesh', 'Uttarakhand',\n",
       "       'Odisha', 'Puducherry', 'West Bengal', 'Chhattisgarh',\n",
       "       'Chandigarh', 'Gujarat', 'Himachal Pradesh', 'Madhya Pradesh',\n",
       "       'Bihar', 'Manipur', 'Mizoram', 'Andaman and Nicobar Islands',\n",
       "       'Goa', 'Unassigned', 'Assam', 'Jharkhand', 'Arunachal Pradesh',\n",
       "       'Tripura', 'Nagaland', 'Meghalaya', 'Dadar Nagar Haveli',\n",
       "       'Cases being reassigned to states', 'Sikkim', 'Daman & Diu',\n",
       "       'Dadra and Nagar Haveli and Daman and Diu'], dtype=object)"
      ]
     },
     "execution_count": 17,
     "metadata": {},
     "output_type": "execute_result"
    }
   ],
   "source": [
    "df['State/UnionTerritory'].unique()"
   ]
  },
  {
   "cell_type": "code",
   "execution_count": 18,
   "metadata": {},
   "outputs": [
    {
     "data": {
      "text/plain": [
       "39"
      ]
     },
     "execution_count": 18,
     "metadata": {},
     "output_type": "execute_result"
    }
   ],
   "source": [
    "df['State/UnionTerritory'].nunique()   #39 unique values"
   ]
  },
  {
   "cell_type": "code",
   "execution_count": 19,
   "metadata": {},
   "outputs": [
    {
     "data": {
      "text/html": [
       "<div>\n",
       "<style scoped>\n",
       "    .dataframe tbody tr th:only-of-type {\n",
       "        vertical-align: middle;\n",
       "    }\n",
       "\n",
       "    .dataframe tbody tr th {\n",
       "        vertical-align: top;\n",
       "    }\n",
       "\n",
       "    .dataframe thead th {\n",
       "        text-align: right;\n",
       "    }\n",
       "</style>\n",
       "<table border=\"1\" class=\"dataframe\">\n",
       "  <thead>\n",
       "    <tr style=\"text-align: right;\">\n",
       "      <th></th>\n",
       "      <th>Sno</th>\n",
       "      <th>Cured</th>\n",
       "      <th>Deaths</th>\n",
       "      <th>Confirmed</th>\n",
       "    </tr>\n",
       "  </thead>\n",
       "  <tbody>\n",
       "    <tr>\n",
       "      <th>count</th>\n",
       "      <td>9291.000000</td>\n",
       "      <td>9.291000e+03</td>\n",
       "      <td>9291.000000</td>\n",
       "      <td>9.291000e+03</td>\n",
       "    </tr>\n",
       "    <tr>\n",
       "      <th>mean</th>\n",
       "      <td>4646.000000</td>\n",
       "      <td>7.863266e+04</td>\n",
       "      <td>1487.620385</td>\n",
       "      <td>9.183978e+04</td>\n",
       "    </tr>\n",
       "    <tr>\n",
       "      <th>std</th>\n",
       "      <td>2682.225009</td>\n",
       "      <td>1.931102e+05</td>\n",
       "      <td>4713.813690</td>\n",
       "      <td>2.166014e+05</td>\n",
       "    </tr>\n",
       "    <tr>\n",
       "      <th>min</th>\n",
       "      <td>1.000000</td>\n",
       "      <td>0.000000e+00</td>\n",
       "      <td>0.000000</td>\n",
       "      <td>0.000000e+00</td>\n",
       "    </tr>\n",
       "    <tr>\n",
       "      <th>25%</th>\n",
       "      <td>2323.500000</td>\n",
       "      <td>1.520000e+02</td>\n",
       "      <td>2.000000</td>\n",
       "      <td>5.385000e+02</td>\n",
       "    </tr>\n",
       "    <tr>\n",
       "      <th>50%</th>\n",
       "      <td>4646.000000</td>\n",
       "      <td>4.308000e+03</td>\n",
       "      <td>66.000000</td>\n",
       "      <td>6.832000e+03</td>\n",
       "    </tr>\n",
       "    <tr>\n",
       "      <th>75%</th>\n",
       "      <td>6968.500000</td>\n",
       "      <td>5.772650e+04</td>\n",
       "      <td>926.500000</td>\n",
       "      <td>7.885600e+04</td>\n",
       "    </tr>\n",
       "    <tr>\n",
       "      <th>max</th>\n",
       "      <td>9291.000000</td>\n",
       "      <td>1.737080e+06</td>\n",
       "      <td>47827.000000</td>\n",
       "      <td>1.859367e+06</td>\n",
       "    </tr>\n",
       "  </tbody>\n",
       "</table>\n",
       "</div>"
      ],
      "text/plain": [
       "               Sno         Cured        Deaths     Confirmed\n",
       "count  9291.000000  9.291000e+03   9291.000000  9.291000e+03\n",
       "mean   4646.000000  7.863266e+04   1487.620385  9.183978e+04\n",
       "std    2682.225009  1.931102e+05   4713.813690  2.166014e+05\n",
       "min       1.000000  0.000000e+00      0.000000  0.000000e+00\n",
       "25%    2323.500000  1.520000e+02      2.000000  5.385000e+02\n",
       "50%    4646.000000  4.308000e+03     66.000000  6.832000e+03\n",
       "75%    6968.500000  5.772650e+04    926.500000  7.885600e+04\n",
       "max    9291.000000  1.737080e+06  47827.000000  1.859367e+06"
      ]
     },
     "execution_count": 19,
     "metadata": {},
     "output_type": "execute_result"
    }
   ],
   "source": [
    "x=np.round(df.describe(),decimals=4)\n",
    "\n",
    "df.describe()"
   ]
  },
  {
   "cell_type": "markdown",
   "metadata": {},
   "source": [
    "## Feature Engineering"
   ]
  },
  {
   "cell_type": "code",
   "execution_count": 20,
   "metadata": {},
   "outputs": [],
   "source": [
    "df['Date']=pd.to_datetime(df['Date'])"
   ]
  },
  {
   "cell_type": "code",
   "execution_count": 21,
   "metadata": {},
   "outputs": [
    {
     "name": "stdout",
     "output_type": "stream",
     "text": [
      "<class 'pandas.core.frame.DataFrame'>\n",
      "RangeIndex: 9291 entries, 0 to 9290\n",
      "Data columns (total 7 columns):\n",
      " #   Column                Non-Null Count  Dtype         \n",
      "---  ------                --------------  -----         \n",
      " 0   Sno                   9291 non-null   int64         \n",
      " 1   Date                  9291 non-null   datetime64[ns]\n",
      " 2   Time                  9291 non-null   object        \n",
      " 3   State/UnionTerritory  9291 non-null   object        \n",
      " 4   Cured                 9291 non-null   int64         \n",
      " 5   Deaths                9291 non-null   int64         \n",
      " 6   Confirmed             9291 non-null   int64         \n",
      "dtypes: datetime64[ns](1), int64(4), object(2)\n",
      "memory usage: 508.2+ KB\n"
     ]
    }
   ],
   "source": [
    "df.info()"
   ]
  },
  {
   "cell_type": "code",
   "execution_count": 22,
   "metadata": {},
   "outputs": [
    {
     "data": {
      "text/html": [
       "<div>\n",
       "<style scoped>\n",
       "    .dataframe tbody tr th:only-of-type {\n",
       "        vertical-align: middle;\n",
       "    }\n",
       "\n",
       "    .dataframe tbody tr th {\n",
       "        vertical-align: top;\n",
       "    }\n",
       "\n",
       "    .dataframe thead th {\n",
       "        text-align: right;\n",
       "    }\n",
       "</style>\n",
       "<table border=\"1\" class=\"dataframe\">\n",
       "  <thead>\n",
       "    <tr style=\"text-align: right;\">\n",
       "      <th></th>\n",
       "      <th>Sno</th>\n",
       "      <th>Date</th>\n",
       "      <th>Time</th>\n",
       "      <th>State/UnionTerritory</th>\n",
       "      <th>Cured</th>\n",
       "      <th>Deaths</th>\n",
       "      <th>Confirmed</th>\n",
       "      <th>date_year</th>\n",
       "    </tr>\n",
       "  </thead>\n",
       "  <tbody>\n",
       "    <tr>\n",
       "      <th>0</th>\n",
       "      <td>1</td>\n",
       "      <td>2020-01-30</td>\n",
       "      <td>6:00 PM</td>\n",
       "      <td>Kerala</td>\n",
       "      <td>0</td>\n",
       "      <td>0</td>\n",
       "      <td>1</td>\n",
       "      <td>2020</td>\n",
       "    </tr>\n",
       "    <tr>\n",
       "      <th>1</th>\n",
       "      <td>2</td>\n",
       "      <td>2020-01-31</td>\n",
       "      <td>6:00 PM</td>\n",
       "      <td>Kerala</td>\n",
       "      <td>0</td>\n",
       "      <td>0</td>\n",
       "      <td>1</td>\n",
       "      <td>2020</td>\n",
       "    </tr>\n",
       "    <tr>\n",
       "      <th>2</th>\n",
       "      <td>3</td>\n",
       "      <td>2020-01-02</td>\n",
       "      <td>6:00 PM</td>\n",
       "      <td>Kerala</td>\n",
       "      <td>0</td>\n",
       "      <td>0</td>\n",
       "      <td>2</td>\n",
       "      <td>2020</td>\n",
       "    </tr>\n",
       "    <tr>\n",
       "      <th>3</th>\n",
       "      <td>4</td>\n",
       "      <td>2020-02-02</td>\n",
       "      <td>6:00 PM</td>\n",
       "      <td>Kerala</td>\n",
       "      <td>0</td>\n",
       "      <td>0</td>\n",
       "      <td>3</td>\n",
       "      <td>2020</td>\n",
       "    </tr>\n",
       "    <tr>\n",
       "      <th>4</th>\n",
       "      <td>5</td>\n",
       "      <td>2020-03-02</td>\n",
       "      <td>6:00 PM</td>\n",
       "      <td>Kerala</td>\n",
       "      <td>0</td>\n",
       "      <td>0</td>\n",
       "      <td>3</td>\n",
       "      <td>2020</td>\n",
       "    </tr>\n",
       "  </tbody>\n",
       "</table>\n",
       "</div>"
      ],
      "text/plain": [
       "   Sno       Date     Time State/UnionTerritory  Cured  Deaths  Confirmed  \\\n",
       "0    1 2020-01-30  6:00 PM               Kerala      0       0          1   \n",
       "1    2 2020-01-31  6:00 PM               Kerala      0       0          1   \n",
       "2    3 2020-01-02  6:00 PM               Kerala      0       0          2   \n",
       "3    4 2020-02-02  6:00 PM               Kerala      0       0          3   \n",
       "4    5 2020-03-02  6:00 PM               Kerala      0       0          3   \n",
       "\n",
       "   date_year  \n",
       "0       2020  \n",
       "1       2020  \n",
       "2       2020  \n",
       "3       2020  \n",
       "4       2020  "
      ]
     },
     "execution_count": 22,
     "metadata": {},
     "output_type": "execute_result"
    }
   ],
   "source": [
    "df['date_year']=df['Date'].dt.year\n",
    "df.head()"
   ]
  },
  {
   "cell_type": "code",
   "execution_count": 23,
   "metadata": {},
   "outputs": [
    {
     "data": {
      "text/html": [
       "<div>\n",
       "<style scoped>\n",
       "    .dataframe tbody tr th:only-of-type {\n",
       "        vertical-align: middle;\n",
       "    }\n",
       "\n",
       "    .dataframe tbody tr th {\n",
       "        vertical-align: top;\n",
       "    }\n",
       "\n",
       "    .dataframe thead th {\n",
       "        text-align: right;\n",
       "    }\n",
       "</style>\n",
       "<table border=\"1\" class=\"dataframe\">\n",
       "  <thead>\n",
       "    <tr style=\"text-align: right;\">\n",
       "      <th></th>\n",
       "      <th>Sno</th>\n",
       "      <th>Date</th>\n",
       "      <th>Time</th>\n",
       "      <th>State/UnionTerritory</th>\n",
       "      <th>Cured</th>\n",
       "      <th>Deaths</th>\n",
       "      <th>Confirmed</th>\n",
       "      <th>date_year</th>\n",
       "      <th>date_month_name</th>\n",
       "    </tr>\n",
       "  </thead>\n",
       "  <tbody>\n",
       "    <tr>\n",
       "      <th>0</th>\n",
       "      <td>1</td>\n",
       "      <td>2020-01-30</td>\n",
       "      <td>6:00 PM</td>\n",
       "      <td>Kerala</td>\n",
       "      <td>0</td>\n",
       "      <td>0</td>\n",
       "      <td>1</td>\n",
       "      <td>2020</td>\n",
       "      <td>January</td>\n",
       "    </tr>\n",
       "    <tr>\n",
       "      <th>1</th>\n",
       "      <td>2</td>\n",
       "      <td>2020-01-31</td>\n",
       "      <td>6:00 PM</td>\n",
       "      <td>Kerala</td>\n",
       "      <td>0</td>\n",
       "      <td>0</td>\n",
       "      <td>1</td>\n",
       "      <td>2020</td>\n",
       "      <td>January</td>\n",
       "    </tr>\n",
       "    <tr>\n",
       "      <th>2</th>\n",
       "      <td>3</td>\n",
       "      <td>2020-01-02</td>\n",
       "      <td>6:00 PM</td>\n",
       "      <td>Kerala</td>\n",
       "      <td>0</td>\n",
       "      <td>0</td>\n",
       "      <td>2</td>\n",
       "      <td>2020</td>\n",
       "      <td>January</td>\n",
       "    </tr>\n",
       "    <tr>\n",
       "      <th>3</th>\n",
       "      <td>4</td>\n",
       "      <td>2020-02-02</td>\n",
       "      <td>6:00 PM</td>\n",
       "      <td>Kerala</td>\n",
       "      <td>0</td>\n",
       "      <td>0</td>\n",
       "      <td>3</td>\n",
       "      <td>2020</td>\n",
       "      <td>February</td>\n",
       "    </tr>\n",
       "    <tr>\n",
       "      <th>4</th>\n",
       "      <td>5</td>\n",
       "      <td>2020-03-02</td>\n",
       "      <td>6:00 PM</td>\n",
       "      <td>Kerala</td>\n",
       "      <td>0</td>\n",
       "      <td>0</td>\n",
       "      <td>3</td>\n",
       "      <td>2020</td>\n",
       "      <td>March</td>\n",
       "    </tr>\n",
       "  </tbody>\n",
       "</table>\n",
       "</div>"
      ],
      "text/plain": [
       "   Sno       Date     Time State/UnionTerritory  Cured  Deaths  Confirmed  \\\n",
       "0    1 2020-01-30  6:00 PM               Kerala      0       0          1   \n",
       "1    2 2020-01-31  6:00 PM               Kerala      0       0          1   \n",
       "2    3 2020-01-02  6:00 PM               Kerala      0       0          2   \n",
       "3    4 2020-02-02  6:00 PM               Kerala      0       0          3   \n",
       "4    5 2020-03-02  6:00 PM               Kerala      0       0          3   \n",
       "\n",
       "   date_year date_month_name  \n",
       "0       2020         January  \n",
       "1       2020         January  \n",
       "2       2020         January  \n",
       "3       2020        February  \n",
       "4       2020           March  "
      ]
     },
     "execution_count": 23,
     "metadata": {},
     "output_type": "execute_result"
    }
   ],
   "source": [
    "df['date_month_name']=df['Date'].dt.month_name()\n",
    "df.head()"
   ]
  },
  {
   "cell_type": "code",
   "execution_count": 24,
   "metadata": {},
   "outputs": [
    {
     "data": {
      "text/html": [
       "<div>\n",
       "<style scoped>\n",
       "    .dataframe tbody tr th:only-of-type {\n",
       "        vertical-align: middle;\n",
       "    }\n",
       "\n",
       "    .dataframe tbody tr th {\n",
       "        vertical-align: top;\n",
       "    }\n",
       "\n",
       "    .dataframe thead th {\n",
       "        text-align: right;\n",
       "    }\n",
       "</style>\n",
       "<table border=\"1\" class=\"dataframe\">\n",
       "  <thead>\n",
       "    <tr style=\"text-align: right;\">\n",
       "      <th></th>\n",
       "      <th>Sno</th>\n",
       "      <th>Date</th>\n",
       "      <th>Time</th>\n",
       "      <th>State/UnionTerritory</th>\n",
       "      <th>Cured</th>\n",
       "      <th>Deaths</th>\n",
       "      <th>Confirmed</th>\n",
       "      <th>date_year</th>\n",
       "      <th>date_month_name</th>\n",
       "      <th>date_day</th>\n",
       "    </tr>\n",
       "  </thead>\n",
       "  <tbody>\n",
       "    <tr>\n",
       "      <th>0</th>\n",
       "      <td>1</td>\n",
       "      <td>2020-01-30</td>\n",
       "      <td>6:00 PM</td>\n",
       "      <td>Kerala</td>\n",
       "      <td>0</td>\n",
       "      <td>0</td>\n",
       "      <td>1</td>\n",
       "      <td>2020</td>\n",
       "      <td>January</td>\n",
       "      <td>30</td>\n",
       "    </tr>\n",
       "    <tr>\n",
       "      <th>1</th>\n",
       "      <td>2</td>\n",
       "      <td>2020-01-31</td>\n",
       "      <td>6:00 PM</td>\n",
       "      <td>Kerala</td>\n",
       "      <td>0</td>\n",
       "      <td>0</td>\n",
       "      <td>1</td>\n",
       "      <td>2020</td>\n",
       "      <td>January</td>\n",
       "      <td>31</td>\n",
       "    </tr>\n",
       "    <tr>\n",
       "      <th>2</th>\n",
       "      <td>3</td>\n",
       "      <td>2020-01-02</td>\n",
       "      <td>6:00 PM</td>\n",
       "      <td>Kerala</td>\n",
       "      <td>0</td>\n",
       "      <td>0</td>\n",
       "      <td>2</td>\n",
       "      <td>2020</td>\n",
       "      <td>January</td>\n",
       "      <td>2</td>\n",
       "    </tr>\n",
       "    <tr>\n",
       "      <th>3</th>\n",
       "      <td>4</td>\n",
       "      <td>2020-02-02</td>\n",
       "      <td>6:00 PM</td>\n",
       "      <td>Kerala</td>\n",
       "      <td>0</td>\n",
       "      <td>0</td>\n",
       "      <td>3</td>\n",
       "      <td>2020</td>\n",
       "      <td>February</td>\n",
       "      <td>2</td>\n",
       "    </tr>\n",
       "    <tr>\n",
       "      <th>4</th>\n",
       "      <td>5</td>\n",
       "      <td>2020-03-02</td>\n",
       "      <td>6:00 PM</td>\n",
       "      <td>Kerala</td>\n",
       "      <td>0</td>\n",
       "      <td>0</td>\n",
       "      <td>3</td>\n",
       "      <td>2020</td>\n",
       "      <td>March</td>\n",
       "      <td>2</td>\n",
       "    </tr>\n",
       "  </tbody>\n",
       "</table>\n",
       "</div>"
      ],
      "text/plain": [
       "   Sno       Date     Time State/UnionTerritory  Cured  Deaths  Confirmed  \\\n",
       "0    1 2020-01-30  6:00 PM               Kerala      0       0          1   \n",
       "1    2 2020-01-31  6:00 PM               Kerala      0       0          1   \n",
       "2    3 2020-01-02  6:00 PM               Kerala      0       0          2   \n",
       "3    4 2020-02-02  6:00 PM               Kerala      0       0          3   \n",
       "4    5 2020-03-02  6:00 PM               Kerala      0       0          3   \n",
       "\n",
       "   date_year date_month_name  date_day  \n",
       "0       2020         January        30  \n",
       "1       2020         January        31  \n",
       "2       2020         January         2  \n",
       "3       2020        February         2  \n",
       "4       2020           March         2  "
      ]
     },
     "execution_count": 24,
     "metadata": {},
     "output_type": "execute_result"
    }
   ],
   "source": [
    "df['date_day']=df['Date'].dt.day\n",
    "df.head()"
   ]
  },
  {
   "cell_type": "code",
   "execution_count": 25,
   "metadata": {},
   "outputs": [
    {
     "data": {
      "text/html": [
       "<div>\n",
       "<style scoped>\n",
       "    .dataframe tbody tr th:only-of-type {\n",
       "        vertical-align: middle;\n",
       "    }\n",
       "\n",
       "    .dataframe tbody tr th {\n",
       "        vertical-align: top;\n",
       "    }\n",
       "\n",
       "    .dataframe thead th {\n",
       "        text-align: right;\n",
       "    }\n",
       "</style>\n",
       "<table border=\"1\" class=\"dataframe\">\n",
       "  <thead>\n",
       "    <tr style=\"text-align: right;\">\n",
       "      <th></th>\n",
       "      <th>Sno</th>\n",
       "      <th>Time</th>\n",
       "      <th>State/UnionTerritory</th>\n",
       "      <th>Cured</th>\n",
       "      <th>Deaths</th>\n",
       "      <th>Confirmed</th>\n",
       "      <th>date_year</th>\n",
       "      <th>date_month_name</th>\n",
       "      <th>date_day</th>\n",
       "    </tr>\n",
       "  </thead>\n",
       "  <tbody>\n",
       "    <tr>\n",
       "      <th>0</th>\n",
       "      <td>1</td>\n",
       "      <td>6:00 PM</td>\n",
       "      <td>Kerala</td>\n",
       "      <td>0</td>\n",
       "      <td>0</td>\n",
       "      <td>1</td>\n",
       "      <td>2020</td>\n",
       "      <td>January</td>\n",
       "      <td>30</td>\n",
       "    </tr>\n",
       "    <tr>\n",
       "      <th>1</th>\n",
       "      <td>2</td>\n",
       "      <td>6:00 PM</td>\n",
       "      <td>Kerala</td>\n",
       "      <td>0</td>\n",
       "      <td>0</td>\n",
       "      <td>1</td>\n",
       "      <td>2020</td>\n",
       "      <td>January</td>\n",
       "      <td>31</td>\n",
       "    </tr>\n",
       "    <tr>\n",
       "      <th>2</th>\n",
       "      <td>3</td>\n",
       "      <td>6:00 PM</td>\n",
       "      <td>Kerala</td>\n",
       "      <td>0</td>\n",
       "      <td>0</td>\n",
       "      <td>2</td>\n",
       "      <td>2020</td>\n",
       "      <td>January</td>\n",
       "      <td>2</td>\n",
       "    </tr>\n",
       "    <tr>\n",
       "      <th>3</th>\n",
       "      <td>4</td>\n",
       "      <td>6:00 PM</td>\n",
       "      <td>Kerala</td>\n",
       "      <td>0</td>\n",
       "      <td>0</td>\n",
       "      <td>3</td>\n",
       "      <td>2020</td>\n",
       "      <td>February</td>\n",
       "      <td>2</td>\n",
       "    </tr>\n",
       "    <tr>\n",
       "      <th>4</th>\n",
       "      <td>5</td>\n",
       "      <td>6:00 PM</td>\n",
       "      <td>Kerala</td>\n",
       "      <td>0</td>\n",
       "      <td>0</td>\n",
       "      <td>3</td>\n",
       "      <td>2020</td>\n",
       "      <td>March</td>\n",
       "      <td>2</td>\n",
       "    </tr>\n",
       "    <tr>\n",
       "      <th>...</th>\n",
       "      <td>...</td>\n",
       "      <td>...</td>\n",
       "      <td>...</td>\n",
       "      <td>...</td>\n",
       "      <td>...</td>\n",
       "      <td>...</td>\n",
       "      <td>...</td>\n",
       "      <td>...</td>\n",
       "      <td>...</td>\n",
       "    </tr>\n",
       "    <tr>\n",
       "      <th>9286</th>\n",
       "      <td>9287</td>\n",
       "      <td>8:00 AM</td>\n",
       "      <td>Telangana</td>\n",
       "      <td>266120</td>\n",
       "      <td>1480</td>\n",
       "      <td>275261</td>\n",
       "      <td>2020</td>\n",
       "      <td>September</td>\n",
       "      <td>12</td>\n",
       "    </tr>\n",
       "    <tr>\n",
       "      <th>9287</th>\n",
       "      <td>9288</td>\n",
       "      <td>8:00 AM</td>\n",
       "      <td>Tripura</td>\n",
       "      <td>32169</td>\n",
       "      <td>373</td>\n",
       "      <td>32945</td>\n",
       "      <td>2020</td>\n",
       "      <td>September</td>\n",
       "      <td>12</td>\n",
       "    </tr>\n",
       "    <tr>\n",
       "      <th>9288</th>\n",
       "      <td>9289</td>\n",
       "      <td>8:00 AM</td>\n",
       "      <td>Uttarakhand</td>\n",
       "      <td>72435</td>\n",
       "      <td>1307</td>\n",
       "      <td>79141</td>\n",
       "      <td>2020</td>\n",
       "      <td>September</td>\n",
       "      <td>12</td>\n",
       "    </tr>\n",
       "    <tr>\n",
       "      <th>9289</th>\n",
       "      <td>9290</td>\n",
       "      <td>8:00 AM</td>\n",
       "      <td>Uttar Pradesh</td>\n",
       "      <td>528832</td>\n",
       "      <td>7967</td>\n",
       "      <td>558173</td>\n",
       "      <td>2020</td>\n",
       "      <td>September</td>\n",
       "      <td>12</td>\n",
       "    </tr>\n",
       "    <tr>\n",
       "      <th>9290</th>\n",
       "      <td>9291</td>\n",
       "      <td>8:00 AM</td>\n",
       "      <td>West Bengal</td>\n",
       "      <td>475425</td>\n",
       "      <td>8820</td>\n",
       "      <td>507995</td>\n",
       "      <td>2020</td>\n",
       "      <td>September</td>\n",
       "      <td>12</td>\n",
       "    </tr>\n",
       "  </tbody>\n",
       "</table>\n",
       "<p>9291 rows × 9 columns</p>\n",
       "</div>"
      ],
      "text/plain": [
       "       Sno     Time State/UnionTerritory   Cured  Deaths  Confirmed  \\\n",
       "0        1  6:00 PM               Kerala       0       0          1   \n",
       "1        2  6:00 PM               Kerala       0       0          1   \n",
       "2        3  6:00 PM               Kerala       0       0          2   \n",
       "3        4  6:00 PM               Kerala       0       0          3   \n",
       "4        5  6:00 PM               Kerala       0       0          3   \n",
       "...    ...      ...                  ...     ...     ...        ...   \n",
       "9286  9287  8:00 AM            Telangana  266120    1480     275261   \n",
       "9287  9288  8:00 AM              Tripura   32169     373      32945   \n",
       "9288  9289  8:00 AM          Uttarakhand   72435    1307      79141   \n",
       "9289  9290  8:00 AM        Uttar Pradesh  528832    7967     558173   \n",
       "9290  9291  8:00 AM          West Bengal  475425    8820     507995   \n",
       "\n",
       "      date_year date_month_name  date_day  \n",
       "0          2020         January        30  \n",
       "1          2020         January        31  \n",
       "2          2020         January         2  \n",
       "3          2020        February         2  \n",
       "4          2020           March         2  \n",
       "...         ...             ...       ...  \n",
       "9286       2020       September        12  \n",
       "9287       2020       September        12  \n",
       "9288       2020       September        12  \n",
       "9289       2020       September        12  \n",
       "9290       2020       September        12  \n",
       "\n",
       "[9291 rows x 9 columns]"
      ]
     },
     "execution_count": 25,
     "metadata": {},
     "output_type": "execute_result"
    }
   ],
   "source": [
    "df.drop(['Date'],axis=1,inplace=True)\n",
    "df"
   ]
  },
  {
   "cell_type": "code",
   "execution_count": 26,
   "metadata": {},
   "outputs": [
    {
     "name": "stdout",
     "output_type": "stream",
     "text": [
      "<class 'pandas.core.frame.DataFrame'>\n",
      "RangeIndex: 9291 entries, 0 to 9290\n",
      "Data columns (total 9 columns):\n",
      " #   Column                Non-Null Count  Dtype \n",
      "---  ------                --------------  ----- \n",
      " 0   Sno                   9291 non-null   int64 \n",
      " 1   Time                  9291 non-null   object\n",
      " 2   State/UnionTerritory  9291 non-null   object\n",
      " 3   Cured                 9291 non-null   int64 \n",
      " 4   Deaths                9291 non-null   int64 \n",
      " 5   Confirmed             9291 non-null   int64 \n",
      " 6   date_year             9291 non-null   int64 \n",
      " 7   date_month_name       9291 non-null   object\n",
      " 8   date_day              9291 non-null   int64 \n",
      "dtypes: int64(6), object(3)\n",
      "memory usage: 653.4+ KB\n"
     ]
    }
   ],
   "source": [
    "df.info()"
   ]
  },
  {
   "cell_type": "code",
   "execution_count": 27,
   "metadata": {},
   "outputs": [
    {
     "name": "stdout",
     "output_type": "stream",
     "text": [
      "<class 'pandas.core.frame.DataFrame'>\n",
      "RangeIndex: 9291 entries, 0 to 9290\n",
      "Data columns (total 9 columns):\n",
      " #   Column                Non-Null Count  Dtype   \n",
      "---  ------                --------------  -----   \n",
      " 0   Sno                   9291 non-null   int64   \n",
      " 1   Time                  9291 non-null   object  \n",
      " 2   State/UnionTerritory  9291 non-null   object  \n",
      " 3   Cured                 9291 non-null   int64   \n",
      " 4   Deaths                9291 non-null   int64   \n",
      " 5   Confirmed             9291 non-null   int64   \n",
      " 6   date_year             9291 non-null   category\n",
      " 7   date_month_name       9291 non-null   category\n",
      " 8   date_day              9291 non-null   category\n",
      "dtypes: category(3), int64(4), object(2)\n",
      "memory usage: 464.6+ KB\n"
     ]
    }
   ],
   "source": [
    "df['date_year']=df['date_year'].astype('category')\n",
    "df['date_month_name']=df['date_month_name'].astype('category')\n",
    "df['date_day']=df['date_day'].astype('category')\n",
    "df.info()"
   ]
  },
  {
   "cell_type": "code",
   "execution_count": 28,
   "metadata": {},
   "outputs": [
    {
     "data": {
      "text/html": [
       "<div>\n",
       "<style scoped>\n",
       "    .dataframe tbody tr th:only-of-type {\n",
       "        vertical-align: middle;\n",
       "    }\n",
       "\n",
       "    .dataframe tbody tr th {\n",
       "        vertical-align: top;\n",
       "    }\n",
       "\n",
       "    .dataframe thead th {\n",
       "        text-align: right;\n",
       "    }\n",
       "</style>\n",
       "<table border=\"1\" class=\"dataframe\">\n",
       "  <thead>\n",
       "    <tr style=\"text-align: right;\">\n",
       "      <th></th>\n",
       "      <th>Sno</th>\n",
       "      <th>Time</th>\n",
       "      <th>State/UnionTerritory</th>\n",
       "      <th>Cured</th>\n",
       "      <th>Deaths</th>\n",
       "      <th>Confirmed</th>\n",
       "      <th>date_year</th>\n",
       "      <th>date_month_name</th>\n",
       "      <th>date_day</th>\n",
       "      <th>active</th>\n",
       "    </tr>\n",
       "  </thead>\n",
       "  <tbody>\n",
       "    <tr>\n",
       "      <th>0</th>\n",
       "      <td>1</td>\n",
       "      <td>6:00 PM</td>\n",
       "      <td>Kerala</td>\n",
       "      <td>0</td>\n",
       "      <td>0</td>\n",
       "      <td>1</td>\n",
       "      <td>2020</td>\n",
       "      <td>January</td>\n",
       "      <td>30</td>\n",
       "      <td>1</td>\n",
       "    </tr>\n",
       "    <tr>\n",
       "      <th>1</th>\n",
       "      <td>2</td>\n",
       "      <td>6:00 PM</td>\n",
       "      <td>Kerala</td>\n",
       "      <td>0</td>\n",
       "      <td>0</td>\n",
       "      <td>1</td>\n",
       "      <td>2020</td>\n",
       "      <td>January</td>\n",
       "      <td>31</td>\n",
       "      <td>1</td>\n",
       "    </tr>\n",
       "    <tr>\n",
       "      <th>2</th>\n",
       "      <td>3</td>\n",
       "      <td>6:00 PM</td>\n",
       "      <td>Kerala</td>\n",
       "      <td>0</td>\n",
       "      <td>0</td>\n",
       "      <td>2</td>\n",
       "      <td>2020</td>\n",
       "      <td>January</td>\n",
       "      <td>2</td>\n",
       "      <td>2</td>\n",
       "    </tr>\n",
       "    <tr>\n",
       "      <th>3</th>\n",
       "      <td>4</td>\n",
       "      <td>6:00 PM</td>\n",
       "      <td>Kerala</td>\n",
       "      <td>0</td>\n",
       "      <td>0</td>\n",
       "      <td>3</td>\n",
       "      <td>2020</td>\n",
       "      <td>February</td>\n",
       "      <td>2</td>\n",
       "      <td>3</td>\n",
       "    </tr>\n",
       "    <tr>\n",
       "      <th>4</th>\n",
       "      <td>5</td>\n",
       "      <td>6:00 PM</td>\n",
       "      <td>Kerala</td>\n",
       "      <td>0</td>\n",
       "      <td>0</td>\n",
       "      <td>3</td>\n",
       "      <td>2020</td>\n",
       "      <td>March</td>\n",
       "      <td>2</td>\n",
       "      <td>3</td>\n",
       "    </tr>\n",
       "    <tr>\n",
       "      <th>...</th>\n",
       "      <td>...</td>\n",
       "      <td>...</td>\n",
       "      <td>...</td>\n",
       "      <td>...</td>\n",
       "      <td>...</td>\n",
       "      <td>...</td>\n",
       "      <td>...</td>\n",
       "      <td>...</td>\n",
       "      <td>...</td>\n",
       "      <td>...</td>\n",
       "    </tr>\n",
       "    <tr>\n",
       "      <th>9286</th>\n",
       "      <td>9287</td>\n",
       "      <td>8:00 AM</td>\n",
       "      <td>Telangana</td>\n",
       "      <td>266120</td>\n",
       "      <td>1480</td>\n",
       "      <td>275261</td>\n",
       "      <td>2020</td>\n",
       "      <td>September</td>\n",
       "      <td>12</td>\n",
       "      <td>7661</td>\n",
       "    </tr>\n",
       "    <tr>\n",
       "      <th>9287</th>\n",
       "      <td>9288</td>\n",
       "      <td>8:00 AM</td>\n",
       "      <td>Tripura</td>\n",
       "      <td>32169</td>\n",
       "      <td>373</td>\n",
       "      <td>32945</td>\n",
       "      <td>2020</td>\n",
       "      <td>September</td>\n",
       "      <td>12</td>\n",
       "      <td>403</td>\n",
       "    </tr>\n",
       "    <tr>\n",
       "      <th>9288</th>\n",
       "      <td>9289</td>\n",
       "      <td>8:00 AM</td>\n",
       "      <td>Uttarakhand</td>\n",
       "      <td>72435</td>\n",
       "      <td>1307</td>\n",
       "      <td>79141</td>\n",
       "      <td>2020</td>\n",
       "      <td>September</td>\n",
       "      <td>12</td>\n",
       "      <td>5399</td>\n",
       "    </tr>\n",
       "    <tr>\n",
       "      <th>9289</th>\n",
       "      <td>9290</td>\n",
       "      <td>8:00 AM</td>\n",
       "      <td>Uttar Pradesh</td>\n",
       "      <td>528832</td>\n",
       "      <td>7967</td>\n",
       "      <td>558173</td>\n",
       "      <td>2020</td>\n",
       "      <td>September</td>\n",
       "      <td>12</td>\n",
       "      <td>21374</td>\n",
       "    </tr>\n",
       "    <tr>\n",
       "      <th>9290</th>\n",
       "      <td>9291</td>\n",
       "      <td>8:00 AM</td>\n",
       "      <td>West Bengal</td>\n",
       "      <td>475425</td>\n",
       "      <td>8820</td>\n",
       "      <td>507995</td>\n",
       "      <td>2020</td>\n",
       "      <td>September</td>\n",
       "      <td>12</td>\n",
       "      <td>23750</td>\n",
       "    </tr>\n",
       "  </tbody>\n",
       "</table>\n",
       "<p>9291 rows × 10 columns</p>\n",
       "</div>"
      ],
      "text/plain": [
       "       Sno     Time State/UnionTerritory   Cured  Deaths  Confirmed date_year  \\\n",
       "0        1  6:00 PM               Kerala       0       0          1      2020   \n",
       "1        2  6:00 PM               Kerala       0       0          1      2020   \n",
       "2        3  6:00 PM               Kerala       0       0          2      2020   \n",
       "3        4  6:00 PM               Kerala       0       0          3      2020   \n",
       "4        5  6:00 PM               Kerala       0       0          3      2020   \n",
       "...    ...      ...                  ...     ...     ...        ...       ...   \n",
       "9286  9287  8:00 AM            Telangana  266120    1480     275261      2020   \n",
       "9287  9288  8:00 AM              Tripura   32169     373      32945      2020   \n",
       "9288  9289  8:00 AM          Uttarakhand   72435    1307      79141      2020   \n",
       "9289  9290  8:00 AM        Uttar Pradesh  528832    7967     558173      2020   \n",
       "9290  9291  8:00 AM          West Bengal  475425    8820     507995      2020   \n",
       "\n",
       "     date_month_name date_day  active  \n",
       "0            January       30       1  \n",
       "1            January       31       1  \n",
       "2            January        2       2  \n",
       "3           February        2       3  \n",
       "4              March        2       3  \n",
       "...              ...      ...     ...  \n",
       "9286       September       12    7661  \n",
       "9287       September       12     403  \n",
       "9288       September       12    5399  \n",
       "9289       September       12   21374  \n",
       "9290       September       12   23750  \n",
       "\n",
       "[9291 rows x 10 columns]"
      ]
     },
     "execution_count": 28,
     "metadata": {},
     "output_type": "execute_result"
    }
   ],
   "source": [
    "# active cases can be a new col\n",
    "# df['active']=df['Confirmed']-df['Deaths']-df['Cured']\n",
    "df['active']=df['Confirmed']-df['Deaths']-df['Cured']\n",
    "df"
   ]
  },
  {
   "cell_type": "code",
   "execution_count": 29,
   "metadata": {},
   "outputs": [
    {
     "data": {
      "text/html": [
       "<div>\n",
       "<style scoped>\n",
       "    .dataframe tbody tr th:only-of-type {\n",
       "        vertical-align: middle;\n",
       "    }\n",
       "\n",
       "    .dataframe tbody tr th {\n",
       "        vertical-align: top;\n",
       "    }\n",
       "\n",
       "    .dataframe thead th {\n",
       "        text-align: right;\n",
       "    }\n",
       "</style>\n",
       "<table border=\"1\" class=\"dataframe\">\n",
       "  <thead>\n",
       "    <tr style=\"text-align: right;\">\n",
       "      <th></th>\n",
       "      <th>Sno</th>\n",
       "      <th>Cured</th>\n",
       "      <th>Deaths</th>\n",
       "      <th>Confirmed</th>\n",
       "      <th>active</th>\n",
       "    </tr>\n",
       "  </thead>\n",
       "  <tbody>\n",
       "    <tr>\n",
       "      <th>count</th>\n",
       "      <td>9291.000000</td>\n",
       "      <td>9.291000e+03</td>\n",
       "      <td>9291.000000</td>\n",
       "      <td>9.291000e+03</td>\n",
       "      <td>9291.000000</td>\n",
       "    </tr>\n",
       "    <tr>\n",
       "      <th>mean</th>\n",
       "      <td>4646.000000</td>\n",
       "      <td>7.863266e+04</td>\n",
       "      <td>1487.620385</td>\n",
       "      <td>9.183978e+04</td>\n",
       "      <td>11719.502960</td>\n",
       "    </tr>\n",
       "    <tr>\n",
       "      <th>std</th>\n",
       "      <td>2682.225009</td>\n",
       "      <td>1.931102e+05</td>\n",
       "      <td>4713.813690</td>\n",
       "      <td>2.166014e+05</td>\n",
       "      <td>27413.749275</td>\n",
       "    </tr>\n",
       "    <tr>\n",
       "      <th>min</th>\n",
       "      <td>1.000000</td>\n",
       "      <td>0.000000e+00</td>\n",
       "      <td>0.000000</td>\n",
       "      <td>0.000000e+00</td>\n",
       "      <td>0.000000</td>\n",
       "    </tr>\n",
       "    <tr>\n",
       "      <th>25%</th>\n",
       "      <td>2323.500000</td>\n",
       "      <td>1.520000e+02</td>\n",
       "      <td>2.000000</td>\n",
       "      <td>5.385000e+02</td>\n",
       "      <td>203.500000</td>\n",
       "    </tr>\n",
       "    <tr>\n",
       "      <th>50%</th>\n",
       "      <td>4646.000000</td>\n",
       "      <td>4.308000e+03</td>\n",
       "      <td>66.000000</td>\n",
       "      <td>6.832000e+03</td>\n",
       "      <td>1796.000000</td>\n",
       "    </tr>\n",
       "    <tr>\n",
       "      <th>75%</th>\n",
       "      <td>6968.500000</td>\n",
       "      <td>5.772650e+04</td>\n",
       "      <td>926.500000</td>\n",
       "      <td>7.885600e+04</td>\n",
       "      <td>11526.500000</td>\n",
       "    </tr>\n",
       "    <tr>\n",
       "      <th>max</th>\n",
       "      <td>9291.000000</td>\n",
       "      <td>1.737080e+06</td>\n",
       "      <td>47827.000000</td>\n",
       "      <td>1.859367e+06</td>\n",
       "      <td>302135.000000</td>\n",
       "    </tr>\n",
       "  </tbody>\n",
       "</table>\n",
       "</div>"
      ],
      "text/plain": [
       "               Sno         Cured        Deaths     Confirmed         active\n",
       "count  9291.000000  9.291000e+03   9291.000000  9.291000e+03    9291.000000\n",
       "mean   4646.000000  7.863266e+04   1487.620385  9.183978e+04   11719.502960\n",
       "std    2682.225009  1.931102e+05   4713.813690  2.166014e+05   27413.749275\n",
       "min       1.000000  0.000000e+00      0.000000  0.000000e+00       0.000000\n",
       "25%    2323.500000  1.520000e+02      2.000000  5.385000e+02     203.500000\n",
       "50%    4646.000000  4.308000e+03     66.000000  6.832000e+03    1796.000000\n",
       "75%    6968.500000  5.772650e+04    926.500000  7.885600e+04   11526.500000\n",
       "max    9291.000000  1.737080e+06  47827.000000  1.859367e+06  302135.000000"
      ]
     },
     "execution_count": 29,
     "metadata": {},
     "output_type": "execute_result"
    }
   ],
   "source": [
    "df.describe()"
   ]
  },
  {
   "cell_type": "markdown",
   "metadata": {},
   "source": [
    "## Univariant Analysis"
   ]
  },
  {
   "cell_type": "code",
   "execution_count": 30,
   "metadata": {},
   "outputs": [
    {
     "data": {
      "text/plain": [
       "<AxesSubplot:ylabel='State/UnionTerritory'>"
      ]
     },
     "execution_count": 30,
     "metadata": {},
     "output_type": "execute_result"
    },
    {
     "data": {
      "image/png": "[encoded data removed]",
      "text/plain": [
       "<Figure size 432x288 with 1 Axes>"
      ]
     },
     "metadata": {},
     "output_type": "display_data"
    }
   ],
   "source": [
    "df['State/UnionTerritory'].value_counts().plot(kind='pie')"
   ]
  },
  {
   "cell_type": "code",
   "execution_count": 31,
   "metadata": {},
   "outputs": [
    {
     "data": {
      "text/plain": [
       "<AxesSubplot:ylabel='date_year'>"
      ]
     },
     "execution_count": 31,
     "metadata": {},
     "output_type": "execute_result"
    },
    {
     "data": {
      "image/png": "[encoded data removed]",
      "text/plain": [
       "<Figure size 432x288 with 1 Axes>"
      ]
     },
     "metadata": {},
     "output_type": "display_data"
    }
   ],
   "source": [
    "df['date_year'].value_counts().plot(kind='pie')"
   ]
  },
  {
   "cell_type": "code",
   "execution_count": 32,
   "metadata": {},
   "outputs": [
    {
     "data": {
      "text/plain": [
       "<AxesSubplot:ylabel='date_month_name'>"
      ]
     },
     "execution_count": 32,
     "metadata": {},
     "output_type": "execute_result"
    },
    {
     "data": {
      "image/png": "[encoded data removed]",
      "text/plain": [
       "<Figure size 432x288 with 1 Axes>"
      ]
     },
     "metadata": {},
     "output_type": "display_data"
    }
   ],
   "source": [
    "df['date_month_name'].value_counts().plot(kind='pie')"
   ]
  },
  {
   "cell_type": "code",
   "execution_count": 33,
   "metadata": {},
   "outputs": [
    {
     "data": {
      "text/plain": [
       "<AxesSubplot:xlabel='date_day', ylabel='count'>"
      ]
     },
     "execution_count": 33,
     "metadata": {},
     "output_type": "execute_result"
    },
    {
     "data": {
      "image/png": "[encoded data removed]",
      "text/plain": [
       "<Figure size 432x288 with 1 Axes>"
      ]
     },
     "metadata": {
      "needs_background": "light"
     },
     "output_type": "display_data"
    }
   ],
   "source": [
    "sns.countplot(df['date_day'])"
   ]
  },
  {
   "cell_type": "code",
   "execution_count": 34,
   "metadata": {},
   "outputs": [
    {
     "data": {
      "text/plain": [
       "(array([8.056e+03, 6.460e+02, 2.390e+02, 1.160e+02, 1.540e+02, 8.000e+00,\n",
       "        1.100e+01, 1.100e+01, 1.800e+01, 3.200e+01]),\n",
       " array([      0.,  173708.,  347416.,  521124.,  694832.,  868540.,\n",
       "        1042248., 1215956., 1389664., 1563372., 1737080.]),\n",
       " <BarContainer object of 10 artists>)"
      ]
     },
     "execution_count": 34,
     "metadata": {},
     "output_type": "execute_result"
    },
    {
     "data": {
      "image/png": "[encoded data removed]",
      "text/plain": [
       "<Figure size 432x288 with 1 Axes>"
      ]
     },
     "metadata": {
      "needs_background": "light"
     },
     "output_type": "display_data"
    }
   ],
   "source": [
    "plt.hist(df['Cured'])"
   ]
  },
  {
   "cell_type": "code",
   "execution_count": 35,
   "metadata": {},
   "outputs": [
    {
     "data": {
      "text/plain": [
       "(array([8549.,  453.,  156.,   16.,   15.,   13.,   12.,   12.,   19.,\n",
       "          46.]),\n",
       " array([    0. ,  4782.7,  9565.4, 14348.1, 19130.8, 23913.5, 28696.2,\n",
       "        33478.9, 38261.6, 43044.3, 47827. ]),\n",
       " <BarContainer object of 10 artists>)"
      ]
     },
     "execution_count": 35,
     "metadata": {},
     "output_type": "execute_result"
    },
    {
     "data": {
      "image/png": "[encoded data removed]",
      "text/plain": [
       "<Figure size 432x288 with 1 Axes>"
      ]
     },
     "metadata": {
      "needs_background": "light"
     },
     "output_type": "display_data"
    }
   ],
   "source": [
    "plt.hist(df['Deaths'])"
   ]
  },
  {
   "cell_type": "code",
   "execution_count": 36,
   "metadata": {},
   "outputs": [
    {
     "data": {
      "text/plain": [
       "(array([7935.,  707.,  264.,  135.,  158.,    8.,   10.,   12.,   23.,\n",
       "          39.]),\n",
       " array([      0. ,  185936.7,  371873.4,  557810.1,  743746.8,  929683.5,\n",
       "        1115620.2, 1301556.9, 1487493.6, 1673430.3, 1859367. ]),\n",
       " <BarContainer object of 10 artists>)"
      ]
     },
     "execution_count": 36,
     "metadata": {},
     "output_type": "execute_result"
    },
    {
     "data": {
      "image/png": "[encoded data removed]",
      "text/plain": [
       "<Figure size 432x288 with 1 Axes>"
      ]
     },
     "metadata": {
      "needs_background": "light"
     },
     "output_type": "display_data"
    }
   ],
   "source": [
    "plt.hist(df['Confirmed']) "
   ]
  },
  {
   "cell_type": "code",
   "execution_count": 37,
   "metadata": {},
   "outputs": [
    {
     "data": {
      "text/plain": [
       "(array([8.418e+03, 4.580e+02, 1.870e+02, 1.200e+02, 3.900e+01, 1.800e+01,\n",
       "        1.300e+01, 7.000e+00, 1.500e+01, 1.600e+01]),\n",
       " array([     0. ,  30213.5,  60427. ,  90640.5, 120854. , 151067.5,\n",
       "        181281. , 211494.5, 241708. , 271921.5, 302135. ]),\n",
       " <BarContainer object of 10 artists>)"
      ]
     },
     "execution_count": 37,
     "metadata": {},
     "output_type": "execute_result"
    },
    {
     "data": {
      "image/png": "[encoded data removed]",
      "text/plain": [
       "<Figure size 432x288 with 1 Axes>"
      ]
     },
     "metadata": {
      "needs_background": "light"
     },
     "output_type": "display_data"
    }
   ],
   "source": [
    "plt.hist(df['active'])"
   ]
  },
  {
   "cell_type": "markdown",
   "metadata": {},
   "source": [
    "## Multivariant Analysis"
   ]
  },
  {
   "cell_type": "code",
   "execution_count": 38,
   "metadata": {},
   "outputs": [
    {
     "data": {
      "text/plain": [
       "<AxesSubplot:xlabel='Confirmed', ylabel='date_month_name'>"
      ]
     },
     "execution_count": 38,
     "metadata": {},
     "output_type": "execute_result"
    },
    {
     "data": {
      "image/png": "[encoded data removed]",
      "text/plain": [
       "<Figure size 432x288 with 1 Axes>"
      ]
     },
     "metadata": {
      "needs_background": "light"
     },
     "output_type": "display_data"
    }
   ],
   "source": [
    "sns.barplot(df['Confirmed'],df['date_month_name'])"
   ]
  },
  {
   "cell_type": "code",
   "execution_count": 39,
   "metadata": {},
   "outputs": [
    {
     "data": {
      "text/plain": [
       "<AxesSubplot:xlabel='Cured', ylabel='date_month_name'>"
      ]
     },
     "execution_count": 39,
     "metadata": {},
     "output_type": "execute_result"
    },
    {
     "data": {
      "image/png": "[encoded data removed]",
      "text/plain": [
       "<Figure size 432x288 with 1 Axes>"
      ]
     },
     "metadata": {
      "needs_background": "light"
     },
     "output_type": "display_data"
    }
   ],
   "source": [
    "sns.barplot(df['Cured'],df['date_month_name'])"
   ]
  },
  {
   "cell_type": "code",
   "execution_count": 40,
   "metadata": {},
   "outputs": [
    {
     "data": {
      "text/plain": [
       "<AxesSubplot:xlabel='Deaths', ylabel='date_month_name'>"
      ]
     },
     "execution_count": 40,
     "metadata": {},
     "output_type": "execute_result"
    },
    {
     "data": {
      "image/png": "[encoded data removed]",
      "text/plain": [
       "<Figure size 432x288 with 1 Axes>"
      ]
     },
     "metadata": {
      "needs_background": "light"
     },
     "output_type": "display_data"
    }
   ],
   "source": [
    "sns.barplot(df['Deaths'],df['date_month_name'])"
   ]
  },
  {
   "cell_type": "code",
   "execution_count": 41,
   "metadata": {},
   "outputs": [
    {
     "data": {
      "text/plain": [
       "<AxesSubplot:xlabel='Confirmed', ylabel='date_day'>"
      ]
     },
     "execution_count": 41,
     "metadata": {},
     "output_type": "execute_result"
    },
    {
     "data": {
      "image/png": "[encoded data removed]",
      "text/plain": [
       "<Figure size 432x288 with 1 Axes>"
      ]
     },
     "metadata": {
      "needs_background": "light"
     },
     "output_type": "display_data"
    }
   ],
   "source": [
    "sns.barplot(df['Confirmed'],df['date_day'])"
   ]
  },
  {
   "cell_type": "code",
   "execution_count": 42,
   "metadata": {},
   "outputs": [
    {
     "data": {
      "text/plain": [
       "<AxesSubplot:xlabel='active', ylabel='date_month_name'>"
      ]
     },
     "execution_count": 42,
     "metadata": {},
     "output_type": "execute_result"
    },
    {
     "data": {
      "image/png": "[encoded data removed]",
      "text/plain": [
       "<Figure size 432x288 with 1 Axes>"
      ]
     },
     "metadata": {
      "needs_background": "light"
     },
     "output_type": "display_data"
    }
   ],
   "source": [
    "sns.barplot(df['active'],df['date_month_name'])"
   ]
  },
  {
   "cell_type": "markdown",
   "metadata": {},
   "source": [
    "#### Time col analysis"
   ]
  },
  {
   "cell_type": "code",
   "execution_count": 43,
   "metadata": {},
   "outputs": [
    {
     "name": "stdout",
     "output_type": "stream",
     "text": [
      "Data values in PM 1611\n",
      "Data values in AM 7680\n"
     ]
    }
   ],
   "source": [
    "x='PM'\n",
    "count=0;\n",
    "for i in range(9291):\n",
    "    if(x in df['Time'][i]):\n",
    "        count=count+1;\n",
    "print(\"Data values in PM\",count)\n",
    "\n",
    "total=9291\n",
    "pm_case=count\n",
    "x=total-pm_case\n",
    "print(\"Data values in AM\",x)"
   ]
  },
  {
   "cell_type": "code",
   "execution_count": 44,
   "metadata": {},
   "outputs": [
    {
     "name": "stdout",
     "output_type": "stream",
     "text": [
      "Percentage of PM values:  17.339360671617694\n",
      "Percentage of AM values:  82.6606393283823\n"
     ]
    }
   ],
   "source": [
    "p1=count/9291*100\n",
    "print(\"Percentage of PM values: \",p1)\n",
    "p2=x/9291*100\n",
    "print(\"Percentage of AM values: \",p2)"
   ]
  }
 ],
 "metadata": {
  "kernelspec": {
   "display_name": "Python 3",
   "language": "python",
   "name": "python3"
  },
  "language_info": {
   "codemirror_mode": {
    "name": "ipython",
    "version": 3
   },
   "file_extension": ".py",
   "mimetype": "text/x-python",
   "name": "python",
   "nbconvert_exporter": "python",
   "pygments_lexer": "ipython3",
   "version": "3.7.6"
  }
 },
 "nbformat": 4,
 "nbformat_minor": 4
}
